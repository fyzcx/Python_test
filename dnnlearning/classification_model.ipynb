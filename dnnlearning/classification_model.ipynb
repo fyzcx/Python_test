{
 "cells": [
  {
   "metadata": {},
   "cell_type": "markdown",
   "source": "# 神经网络分类模型",
   "id": "aff43ab656d78f13"
  },
  {
   "cell_type": "code",
   "id": "initial_id",
   "metadata": {
    "collapsed": true,
    "ExecuteTime": {
     "end_time": "2025-03-15T08:06:06.262454Z",
     "start_time": "2025-03-15T08:06:00.856219Z"
    }
   },
   "source": [
    "import matplotlib as mpl\n",
    "import matplotlib.pyplot as plt\n",
    "%matplotlib inline\n",
    "import numpy as np\n",
    "import sklearn\n",
    "import pandas as pd\n",
    "import os\n",
    "import sys\n",
    "import time\n",
    "from tqdm.auto import tqdm\n",
    "import torch\n",
    "import torch.nn as nn\n",
    "import torch.nn.functional as F\n",
    "\n",
    "print(sys.version_info)\n",
    "\n",
    "# 打印版本信息\n",
    "for module in mpl, np, pd, sklearn, torch:\n",
    "    print(module.__name__, module.__version__)\n",
    "    \n",
    "device = torch.device(\"cuda:0\") if torch.cuda.is_available() else torch.device(\"cpu\")\n",
    "print(device)"
   ],
   "outputs": [
    {
     "name": "stdout",
     "output_type": "stream",
     "text": [
      "sys.version_info(major=3, minor=12, micro=3, releaselevel='final', serial=0)\n",
      "matplotlib 3.10.0\n",
      "numpy 2.0.2\n",
      "pandas 2.2.3\n",
      "sklearn 1.6.1\n",
      "torch 2.6.0+cpu\n",
      "cpu\n"
     ]
    }
   ],
   "execution_count": 1
  },
  {
   "metadata": {},
   "cell_type": "markdown",
   "source": "## 数据准备",
   "id": "4a0c59b31f584520"
  },
  {
   "metadata": {
    "ExecuteTime": {
     "end_time": "2025-03-15T08:08:53.502728Z",
     "start_time": "2025-03-15T08:08:32.168450Z"
    }
   },
   "cell_type": "code",
   "source": [
    "from torchvision import datasets\n",
    "from torchvision.transforms import ToTensor\n",
    "from torchvision import transforms\n",
    "\n",
    "\n",
    "# 定义数据集的变换\n",
    "# 这里没有做任何变换，只是为了展示数据集的格式\n",
    "transform = transforms.Compose([\n",
    "])\n",
    "# fashion_mnist图像分类数据集，衣服分类，60000张训练图片，10000张测试图片\n",
    "# transform的作用是对图像进行预处理，比如裁剪、旋转、缩放等\n",
    "train_ds = datasets.FashionMNIST(\n",
    "    root=\"data\",\n",
    "    train=True,\n",
    "    download=True,\n",
    "    transform=transform\n",
    ")\n",
    "\n",
    "test_ds = datasets.FashionMNIST(\n",
    "    root=\"data\",\n",
    "    train=False,\n",
    "    download=True,\n",
    "    transform=transform\n",
    ")\n",
    "\n",
    "# torchvision 数据集里没有提供训练集和验证集的划分\n",
    "# 当然也可以用 torch.utils.data.Dataset 实现人为划分"
   ],
   "id": "daf91f853f1b4153",
   "outputs": [
    {
     "name": "stderr",
     "output_type": "stream",
     "text": [
      "100%|██████████| 26.4M/26.4M [00:08<00:00, 3.15MB/s]\n",
      "100%|██████████| 29.5k/29.5k [00:00<00:00, 112kB/s]\n",
      "100%|██████████| 4.42M/4.42M [00:02<00:00, 1.48MB/s]\n",
      "100%|██████████| 5.15k/5.15k [00:00<?, ?B/s]\n"
     ]
    }
   ],
   "execution_count": 2
  },
  {
   "metadata": {
    "ExecuteTime": {
     "end_time": "2025-03-15T08:09:12.853499Z",
     "start_time": "2025-03-15T08:09:12.846104Z"
    }
   },
   "cell_type": "code",
   "source": [
    "# 通过id取数据，取到的是一个元祖,是第一个样本,在训练时，把特征和标签分开\n",
    "img, label = train_ds[0]"
   ],
   "id": "a21063748bad7677",
   "outputs": [],
   "execution_count": 3
  },
  {
   "metadata": {
    "ExecuteTime": {
     "end_time": "2025-03-15T08:09:30.825747Z",
     "start_time": "2025-03-15T08:09:30.819609Z"
    }
   },
   "cell_type": "code",
   "source": [
    "# 显示图片\n",
    "def show_img_content(img):\n",
    "    from PIL import Image\n",
    "\n",
    "    # 打开一个图像文件\n",
    "    # img = Image.open(img)\n",
    "\n",
    "\n",
    "    print(\"图像大小:\", img.size)\n",
    "    print(\"图像模式:\", img.mode)\n",
    "\n",
    "\n",
    "    # 如果图像是单通道的，比如灰度图，你可以这样获取像素值列表：\n",
    "    if img.mode == 'L':\n",
    "        pixel_values = list(img.getdata())\n",
    "        print(pixel_values)\n",
    "show_img_content(img) # 显示图片"
   ],
   "id": "c0dff1d388324841",
   "outputs": [
    {
     "name": "stdout",
     "output_type": "stream",
     "text": [
      "图像大小: (28, 28)\n",
      "图像模式: L\n",
      "[0, 0, 0, 0, 0, 0, 0, 0, 0, 0, 0, 0, 0, 0, 0, 0, 0, 0, 0, 0, 0, 0, 0, 0, 0, 0, 0, 0, 0, 0, 0, 0, 0, 0, 0, 0, 0, 0, 0, 0, 0, 0, 0, 0, 0, 0, 0, 0, 0, 0, 0, 0, 0, 0, 0, 0, 0, 0, 0, 0, 0, 0, 0, 0, 0, 0, 0, 0, 0, 0, 0, 0, 0, 0, 0, 0, 0, 0, 0, 0, 0, 0, 0, 0, 0, 0, 0, 0, 0, 0, 0, 0, 0, 0, 0, 0, 1, 0, 0, 13, 73, 0, 0, 1, 4, 0, 0, 0, 0, 1, 1, 0, 0, 0, 0, 0, 0, 0, 0, 0, 0, 0, 0, 0, 3, 0, 36, 136, 127, 62, 54, 0, 0, 0, 1, 3, 4, 0, 0, 3, 0, 0, 0, 0, 0, 0, 0, 0, 0, 0, 0, 0, 6, 0, 102, 204, 176, 134, 144, 123, 23, 0, 0, 0, 0, 12, 10, 0, 0, 0, 0, 0, 0, 0, 0, 0, 0, 0, 0, 0, 0, 0, 155, 236, 207, 178, 107, 156, 161, 109, 64, 23, 77, 130, 72, 15, 0, 0, 0, 0, 0, 0, 0, 0, 0, 0, 0, 1, 0, 69, 207, 223, 218, 216, 216, 163, 127, 121, 122, 146, 141, 88, 172, 66, 0, 0, 0, 0, 0, 0, 0, 0, 0, 1, 1, 1, 0, 200, 232, 232, 233, 229, 223, 223, 215, 213, 164, 127, 123, 196, 229, 0, 0, 0, 0, 0, 0, 0, 0, 0, 0, 0, 0, 0, 0, 183, 225, 216, 223, 228, 235, 227, 224, 222, 224, 221, 223, 245, 173, 0, 0, 0, 0, 0, 0, 0, 0, 0, 0, 0, 0, 0, 0, 193, 228, 218, 213, 198, 180, 212, 210, 211, 213, 223, 220, 243, 202, 0, 0, 0, 0, 0, 0, 0, 0, 0, 0, 1, 3, 0, 12, 219, 220, 212, 218, 192, 169, 227, 208, 218, 224, 212, 226, 197, 209, 52, 0, 0, 0, 0, 0, 0, 0, 0, 0, 0, 6, 0, 99, 244, 222, 220, 218, 203, 198, 221, 215, 213, 222, 220, 245, 119, 167, 56, 0, 0, 0, 0, 0, 0, 0, 0, 0, 4, 0, 0, 55, 236, 228, 230, 228, 240, 232, 213, 218, 223, 234, 217, 217, 209, 92, 0, 0, 0, 1, 4, 6, 7, 2, 0, 0, 0, 0, 0, 237, 226, 217, 223, 222, 219, 222, 221, 216, 223, 229, 215, 218, 255, 77, 0, 0, 3, 0, 0, 0, 0, 0, 0, 0, 62, 145, 204, 228, 207, 213, 221, 218, 208, 211, 218, 224, 223, 219, 215, 224, 244, 159, 0, 0, 0, 0, 0, 18, 44, 82, 107, 189, 228, 220, 222, 217, 226, 200, 205, 211, 230, 224, 234, 176, 188, 250, 248, 233, 238, 215, 0, 0, 57, 187, 208, 224, 221, 224, 208, 204, 214, 208, 209, 200, 159, 245, 193, 206, 223, 255, 255, 221, 234, 221, 211, 220, 232, 246, 0, 3, 202, 228, 224, 221, 211, 211, 214, 205, 205, 205, 220, 240, 80, 150, 255, 229, 221, 188, 154, 191, 210, 204, 209, 222, 228, 225, 0, 98, 233, 198, 210, 222, 229, 229, 234, 249, 220, 194, 215, 217, 241, 65, 73, 106, 117, 168, 219, 221, 215, 217, 223, 223, 224, 229, 29, 75, 204, 212, 204, 193, 205, 211, 225, 216, 185, 197, 206, 198, 213, 240, 195, 227, 245, 239, 223, 218, 212, 209, 222, 220, 221, 230, 67, 48, 203, 183, 194, 213, 197, 185, 190, 194, 192, 202, 214, 219, 221, 220, 236, 225, 216, 199, 206, 186, 181, 177, 172, 181, 205, 206, 115, 0, 122, 219, 193, 179, 171, 183, 196, 204, 210, 213, 207, 211, 210, 200, 196, 194, 191, 195, 191, 198, 192, 176, 156, 167, 177, 210, 92, 0, 0, 74, 189, 212, 191, 175, 172, 175, 181, 185, 188, 189, 188, 193, 198, 204, 209, 210, 210, 211, 188, 188, 194, 192, 216, 170, 0, 2, 0, 0, 0, 66, 200, 222, 237, 239, 242, 246, 243, 244, 221, 220, 193, 191, 179, 182, 182, 181, 176, 166, 168, 99, 58, 0, 0, 0, 0, 0, 0, 0, 0, 0, 40, 61, 44, 72, 41, 35, 0, 0, 0, 0, 0, 0, 0, 0, 0, 0, 0, 0, 0, 0, 0, 0, 0, 0, 0, 0, 0, 0, 0, 0, 0, 0, 0, 0, 0, 0, 0, 0, 0, 0, 0, 0, 0, 0, 0, 0, 0, 0, 0, 0, 0, 0, 0, 0, 0, 0, 0, 0, 0, 0, 0, 0, 0, 0, 0, 0, 0, 0, 0, 0, 0, 0, 0, 0, 0, 0, 0]\n"
     ]
    }
   ],
   "execution_count": 4
  },
  {
   "metadata": {},
   "cell_type": "markdown",
   "source": "# 为训练做准备",
   "id": "5ec4d7ba7ee10e0"
  },
  {
   "metadata": {
    "ExecuteTime": {
     "end_time": "2025-03-15T08:10:24.737342Z",
     "start_time": "2025-03-15T08:10:24.690332Z"
    }
   },
   "cell_type": "code",
   "source": [
    "from torchvision import datasets\n",
    "from torchvision.transforms import ToTensor\n",
    "from torchvision import transforms\n",
    "\n",
    "mean=0.2860\n",
    "std=0.3205\n",
    "\n",
    "# 定义数据集的变换\n",
    "# ToTensor()将图像数据转换为张量，Normalize()对图像进行标准化\n",
    "transform = transforms.Compose([\n",
    "    transforms.ToTensor(), # 转换为tensor，进行归一化\n",
    "    transforms.Normalize(mean, std) # 标准化，mean和std是数据集的均值和方差\n",
    "])\n",
    "# fashion_mnist图像分类数据集，衣服分类，60000张训练图片，10000张测试图片\n",
    "train_ds = datasets.FashionMNIST(\n",
    "    root=\"data\",\n",
    "    train=True,\n",
    "    download=True,\n",
    "    transform=transform\n",
    ")\n",
    "\n",
    "test_ds = datasets.FashionMNIST(\n",
    "    root=\"data\",\n",
    "    train=False,\n",
    "    download=True,\n",
    "    transform=transform\n",
    ")"
   ],
   "id": "eb0f3164026ed89e",
   "outputs": [],
   "execution_count": 5
  },
  {
   "metadata": {
    "ExecuteTime": {
     "end_time": "2025-03-15T08:10:33.243656Z",
     "start_time": "2025-03-15T08:10:33.224496Z"
    }
   },
   "cell_type": "code",
   "source": [
    "img, label = train_ds[0]\n",
    "img.shape  #img这时是一个tensor，shape=(1, 28, 28)"
   ],
   "id": "3eb0ac79d0389440",
   "outputs": [
    {
     "data": {
      "text/plain": [
       "torch.Size([1, 28, 28])"
      ]
     },
     "execution_count": 6,
     "metadata": {},
     "output_type": "execute_result"
    }
   ],
   "execution_count": 6
  },
  {
   "metadata": {
    "ExecuteTime": {
     "end_time": "2025-03-15T08:28:12.446542Z",
     "start_time": "2025-03-15T08:28:11.986439Z"
    }
   },
   "cell_type": "code",
   "source": [
    "def show_imgs(n_rows, n_cols, train_ds, class_names):\n",
    "    assert n_rows * n_cols < len(train_ds)  #确保打印的图片小于总样本数\n",
    "    plt.figure(figsize = (n_cols * 1.4, n_rows * 1.6))  #宽1.4高1.6，宽，高\n",
    "    for row in range(n_rows):\n",
    "        for col in range(n_cols):\n",
    "            index = n_cols * row + col  # 计算索引，从0开始\n",
    "            plt.subplot(n_rows, n_cols, index+1)#因为从1开始\n",
    "            img_arr, label = train_ds[index]\n",
    "            img_arr = np.transpose(img_arr, (1, 2, 0))  # 通道换到最后一维\n",
    "            plt.imshow(img_arr, cmap=\"binary\",\n",
    "                       interpolation = 'nearest')#interpolation='nearest'是临近插值\n",
    "            plt.axis('off')#去除坐标系\n",
    "            plt.title(class_names[label]) # 显示类别名称\n",
    "    plt.show()\n",
    "    \n",
    "    \n",
    "\n",
    "#已知的图片类别\n",
    "# lables在这个路径https://github.com/zalandoresearch/fashion-mnist\n",
    "class_names = ['T-shirt', 'Trouser', 'Pullover', 'Dress',\n",
    "               'Coat', 'Sandal', 'Shirt', 'Sneaker',\n",
    "               'Bag', 'Ankle boot'] #0-9分别代表的类别\n",
    "#只是打印了前15个样本\n",
    "show_imgs(3, 5, train_ds, class_names)\n"
   ],
   "id": "160d6a23872dacb0",
   "outputs": [
    {
     "data": {
      "text/plain": [
       "<Figure size 700x480 with 15 Axes>"
      ],
      "image/png": "[encoded data removed]"
     },
     "metadata": {},
     "output_type": "display_data"
    }
   ],
   "execution_count": 7
  },
  {
   "metadata": {
    "ExecuteTime": {
     "end_time": "2025-03-15T08:28:57.836521Z",
     "start_time": "2025-03-15T08:28:57.832091Z"
    }
   },
   "cell_type": "code",
   "source": [
    "# 从数据集到dataloader\n",
    "# 作用是将数据集分批加载到内存中，以便模型训练时可以批量处理数据\n",
    "train_loader = torch.utils.data.DataLoader(train_ds, batch_size=32, shuffle=True) #batch_size分批，shuffle洗牌\n",
    "# val_loader是验证集的loader\n",
    "val_loader = torch.utils.data.DataLoader(test_ds, batch_size=32, shuffle=False)"
   ],
   "id": "684de57332c5f166",
   "outputs": [],
   "execution_count": 11
  },
  {
   "metadata": {},
   "cell_type": "markdown",
   "source": [
    "在PyTorch中，`DataLoader`是一个迭代器，它封装了数据的加载和预处理过程，使得在训练机器学习模型时可以方便地批量加载数据。`DataLoader`主要负责以下几个方面：\n",
    "\n",
    "1. **批量加载数据**：`DataLoader`可以将数据集（Dataset）切分为更小的批次（batch），每次迭代提供一小批量数据，而不是单个数据点。这有助于模型学习数据中的统计依赖性，并且可以更高效地利用GPU等硬件的并行计算能力。\n",
    "\n",
    "2. **数据打乱**：默认情况下，`DataLoader`会在每个epoch（训练周期）开始时打乱数据的顺序。这有助于模型训练时避免陷入局部最优解，并且可以提高模型的泛化能力。\n",
    "\n",
    "3. **多线程数据加载**：`DataLoader`支持多线程（通过参数`num_workers`）来并行地加载数据，这可以显著减少训练过程中的等待时间，尤其是在处理大规模数据集时。\n",
    "\n",
    "4. **数据预处理**：`DataLoader`可以与`transforms`结合使用，对加载的数据进行预处理，如归一化、标准化、数据增强等操作。\n",
    "\n",
    "5. **内存管理**：`DataLoader`负责管理数据的内存使用，确保在训练过程中不会耗尽内存资源。\n",
    "\n",
    "6. **易用性**：`DataLoader`提供了一个简单的接口，可以很容易地集成到训练循环中。\n",
    "\n"
   ],
   "id": "7078c1a0bf2fa201"
  },
  {
   "metadata": {},
   "cell_type": "markdown",
   "source": "## 定义模型",
   "id": "a0e95371ba09b729"
  },
  {
   "metadata": {
    "ExecuteTime": {
     "end_time": "2025-03-15T08:31:40.441172Z",
     "start_time": "2025-03-15T08:31:40.433622Z"
    }
   },
   "cell_type": "code",
   "source": [
    "class NeuralNetwork(nn.Module):\n",
    "    def __init__(self):\n",
    "        super().__init__() # 继承父类的初始化方法，子类有父类的属性\n",
    "        self.flatten = nn.Flatten()  # 展平层\n",
    "        # Sequential容器，将多个层组合成一个网络，并自动按照顺序执行\n",
    "        self.linear_relu_stack = nn.Sequential(\n",
    "            nn.Linear(784, 300),  # in_features=784, out_features=300, 784是输入特征数，300是输出特征数\n",
    "            # 激活函数的作用是将输入信号转换为输出信号，使得神经网络可以学习非线性关系\n",
    "            nn.ReLU(), # 激活函数\n",
    "            nn.Linear(300, 100),#隐藏层神经元数100\n",
    "            nn.ReLU(), # 激活函数\n",
    "            nn.Linear(100, 10),#输出层神经元数10 \n",
    "        )\n",
    "\n",
    "    def forward(self, x): # 前向计算，前向传播\n",
    "        # x.shape [batch size, 1, 28, 28],1是通道数\n",
    "        x = self.flatten(x)  \n",
    "        # print(f'x.shape--{x.shape}')\n",
    "        # 展平后 x.shape [batch size, 784]\n",
    "        logits = self.linear_relu_stack(x)\n",
    "        # logits.shape [batch size, 10]\n",
    "        return logits #没有经过softmax,称为logits\n",
    "    \n",
    "model = NeuralNetwork()"
   ],
   "id": "ea1ff3e922feea09",
   "outputs": [],
   "execution_count": 13
  },
  {
   "metadata": {
    "ExecuteTime": {
     "end_time": "2025-03-15T08:31:48.115320Z",
     "start_time": "2025-03-15T08:31:48.096376Z"
    }
   },
   "cell_type": "code",
   "source": [
    "# 查看模型运算的tensor尺寸\n",
    "x = torch.randn(32, 1, 28, 28)\n",
    "print(x.shape)\n",
    "logits = model(x)\n",
    "print(logits.shape)"
   ],
   "id": "a0e613069ce90916",
   "outputs": [
    {
     "name": "stdout",
     "output_type": "stream",
     "text": [
      "torch.Size([32, 1, 28, 28])\n",
      "torch.Size([32, 10])\n"
     ]
    }
   ],
   "execution_count": 14
  },
  {
   "metadata": {
    "ExecuteTime": {
     "end_time": "2025-03-15T08:32:08.866888Z",
     "start_time": "2025-03-15T08:32:08.845967Z"
    }
   },
   "cell_type": "code",
   "source": "model.state_dict()  # 这种方法用于保存模型参数，看能看见参数属于模型的哪一部分",
   "id": "6f1ca21fa8e26b85",
   "outputs": [
    {
     "data": {
      "text/plain": [
       "OrderedDict([('linear_relu_stack.0.weight',\n",
       "              tensor([[ 0.0098, -0.0007,  0.0019,  ..., -0.0091, -0.0109, -0.0216],\n",
       "                      [-0.0142, -0.0090,  0.0344,  ...,  0.0210,  0.0114,  0.0264],\n",
       "                      [ 0.0354, -0.0086, -0.0172,  ..., -0.0127,  0.0343,  0.0021],\n",
       "                      ...,\n",
       "                      [-0.0274, -0.0329,  0.0163,  ...,  0.0173,  0.0156,  0.0237],\n",
       "                      [ 0.0008, -0.0014, -0.0207,  ..., -0.0114,  0.0286, -0.0232],\n",
       "                      [ 0.0297,  0.0322, -0.0315,  ..., -0.0050,  0.0337,  0.0178]])),\n",
       "             ('linear_relu_stack.0.bias',\n",
       "              tensor([-2.2464e-02, -2.4523e-02,  3.0475e-02,  2.6549e-02,  2.2809e-02,\n",
       "                       6.7538e-03,  1.2821e-03, -6.4724e-04, -3.0358e-02,  7.0793e-03,\n",
       "                      -1.8129e-02, -5.1652e-03, -1.3377e-02,  3.1414e-02,  1.7449e-02,\n",
       "                       3.5265e-03, -3.2258e-02,  7.1981e-03, -8.1219e-03, -1.9475e-02,\n",
       "                      -8.1172e-03,  1.4471e-02, -1.6884e-02,  2.5135e-02,  3.0704e-02,\n",
       "                       3.2866e-02, -1.5877e-02,  4.7885e-03,  5.9400e-03,  1.7346e-02,\n",
       "                      -6.2505e-03,  2.1172e-02, -3.0292e-02,  2.5447e-02,  1.4900e-02,\n",
       "                      -2.4391e-02,  1.3308e-02,  2.8707e-02,  1.3724e-02, -1.3038e-02,\n",
       "                      -1.3733e-03, -2.7531e-02,  1.4106e-02,  2.4795e-02,  3.4314e-02,\n",
       "                       1.9937e-02,  2.1874e-02, -6.0933e-03,  1.4077e-02, -2.5874e-02,\n",
       "                       2.1435e-02, -2.3148e-03,  1.0823e-02, -2.9447e-02, -9.9794e-03,\n",
       "                       7.2414e-03,  2.1899e-02, -3.0009e-02, -4.7994e-03, -1.7023e-02,\n",
       "                      -1.8337e-02, -2.6231e-02, -9.5426e-03, -1.1065e-02, -1.9322e-03,\n",
       "                       5.5753e-03,  1.8230e-02, -2.5487e-03,  2.0002e-02,  2.4601e-02,\n",
       "                       1.9046e-02, -1.7942e-02,  1.6543e-02, -2.3044e-03,  1.4592e-02,\n",
       "                      -1.7637e-02, -1.7308e-02, -2.2279e-02,  2.5270e-03,  3.3807e-03,\n",
       "                       3.3786e-02,  1.8792e-03, -1.6914e-02,  2.5502e-03, -2.5310e-02,\n",
       "                      -2.0048e-02,  8.9314e-03,  3.0275e-02, -4.8459e-04,  8.0275e-03,\n",
       "                       2.1852e-02,  5.1186e-03, -1.5040e-02, -3.1762e-02, -2.1096e-02,\n",
       "                       1.1925e-02,  3.0437e-03,  6.4160e-03, -3.3745e-02, -6.0986e-03,\n",
       "                       4.7714e-03,  2.1579e-02,  1.2482e-03, -3.1908e-02, -1.1812e-02,\n",
       "                      -2.9478e-02, -1.1154e-02, -3.7600e-03, -1.0634e-02,  2.4549e-02,\n",
       "                      -2.3825e-02,  8.1232e-04,  2.6207e-02,  3.1713e-02, -2.5959e-02,\n",
       "                       6.1691e-03, -2.1272e-02, -2.2833e-03,  1.6979e-02,  2.1946e-02,\n",
       "                      -3.0692e-03, -1.8844e-02, -9.0970e-03,  1.4697e-02,  2.7106e-02,\n",
       "                      -1.2950e-02,  1.5984e-02,  1.0556e-02,  3.0502e-02, -1.3327e-02,\n",
       "                       3.5381e-02, -8.5694e-03, -7.3275e-03,  1.5546e-02,  2.0985e-02,\n",
       "                      -1.6180e-02, -2.4298e-02, -1.0831e-02,  3.1994e-02,  2.7407e-02,\n",
       "                      -2.5135e-02, -1.7051e-02, -1.8247e-02,  3.5495e-02, -1.3926e-02,\n",
       "                      -3.3006e-02, -1.5439e-02,  3.1816e-02, -1.2609e-02,  3.2325e-02,\n",
       "                      -2.8617e-02,  3.2624e-02, -2.1644e-02,  1.4082e-02, -2.8170e-03,\n",
       "                       1.1606e-03, -1.4530e-02, -1.7095e-02,  9.6059e-03, -1.8089e-02,\n",
       "                      -2.9118e-02,  2.0225e-02,  1.1194e-02, -1.1694e-02, -9.7161e-03,\n",
       "                      -3.0731e-02, -1.7844e-02, -2.6953e-02,  1.9883e-02,  1.6258e-02,\n",
       "                      -2.4855e-02, -6.4277e-03, -4.2989e-03, -3.2857e-02, -2.0860e-02,\n",
       "                      -2.4978e-03,  3.0813e-02,  5.5325e-03, -3.5023e-02,  9.0935e-03,\n",
       "                      -2.7423e-02, -1.0627e-02, -3.5553e-02,  7.6715e-03, -3.5364e-02,\n",
       "                       1.5632e-02, -1.7953e-02, -2.2668e-02,  1.0279e-02, -1.5834e-02,\n",
       "                      -1.1477e-02,  7.4491e-03, -4.4415e-03, -5.2334e-03, -1.1489e-02,\n",
       "                       1.1170e-02,  1.2427e-02, -9.5997e-03,  2.7438e-02,  3.3559e-02,\n",
       "                       4.4344e-03,  3.2121e-02,  2.6054e-02,  2.2681e-02,  2.8832e-02,\n",
       "                      -3.3515e-02, -2.0033e-02, -3.1876e-02, -1.2691e-02,  1.0079e-02,\n",
       "                       2.9044e-02, -2.5546e-02, -1.0929e-02, -2.1674e-02,  6.3866e-03,\n",
       "                       2.8300e-02, -9.4743e-03,  3.0554e-02, -2.7303e-03,  3.1037e-02,\n",
       "                      -1.1879e-03, -2.2207e-02, -2.1513e-02, -2.9532e-02, -2.2552e-02,\n",
       "                       2.9429e-02, -2.0866e-02, -1.8987e-02, -2.7775e-03,  3.1096e-02,\n",
       "                      -2.1978e-02, -1.7009e-02, -6.5197e-03,  1.2491e-02,  2.0863e-03,\n",
       "                       1.4742e-02, -1.9466e-02,  1.8631e-02, -1.7633e-02, -1.9974e-02,\n",
       "                       2.2793e-02, -4.1152e-03,  2.6413e-02, -1.8800e-02,  7.7011e-03,\n",
       "                       1.5965e-02, -1.1613e-02,  2.9931e-02, -1.9292e-02,  3.5342e-02,\n",
       "                       3.2323e-02, -2.0094e-02,  2.9661e-02,  1.1827e-03, -1.3499e-02,\n",
       "                      -1.3869e-02,  3.0497e-03,  5.7100e-03,  5.9645e-03,  9.4733e-03,\n",
       "                      -8.0977e-03,  3.1789e-02, -5.9261e-03, -7.4802e-03, -5.9997e-03,\n",
       "                      -2.6134e-02,  3.9048e-05,  3.0059e-02, -2.5797e-02, -1.8843e-05,\n",
       "                       2.1104e-02,  1.7080e-02, -2.0613e-02, -1.2053e-02, -1.9699e-03,\n",
       "                      -5.9656e-03, -1.4112e-03,  2.5657e-02,  1.7278e-02, -4.7314e-03,\n",
       "                       2.1182e-03,  3.5206e-02, -7.4794e-03,  4.4819e-03,  3.5530e-03,\n",
       "                      -3.0251e-02, -6.4118e-03, -3.0657e-02, -1.8292e-03,  2.1792e-02,\n",
       "                      -1.4404e-02,  3.4869e-02,  3.3443e-02,  2.8631e-03,  1.2532e-02,\n",
       "                       5.0401e-03,  6.7732e-03, -2.5019e-02, -1.6510e-02,  2.0275e-02])),\n",
       "             ('linear_relu_stack.2.weight',\n",
       "              tensor([[ 0.0455, -0.0369, -0.0371,  ..., -0.0224,  0.0453, -0.0556],\n",
       "                      [-0.0178,  0.0032,  0.0214,  ..., -0.0011,  0.0367,  0.0248],\n",
       "                      [ 0.0019,  0.0398,  0.0100,  ...,  0.0325,  0.0573, -0.0290],\n",
       "                      ...,\n",
       "                      [ 0.0473, -0.0271, -0.0062,  ...,  0.0286, -0.0434,  0.0555],\n",
       "                      [-0.0399, -0.0542,  0.0216,  ...,  0.0378,  0.0162,  0.0061],\n",
       "                      [-0.0261,  0.0386, -0.0329,  ...,  0.0322, -0.0123,  0.0466]])),\n",
       "             ('linear_relu_stack.2.bias',\n",
       "              tensor([ 0.0513, -0.0535, -0.0025,  0.0337,  0.0496, -0.0566,  0.0431, -0.0138,\n",
       "                      -0.0148,  0.0400, -0.0302,  0.0398, -0.0430,  0.0224, -0.0532, -0.0482,\n",
       "                      -0.0050,  0.0545,  0.0146,  0.0154,  0.0366,  0.0378,  0.0209, -0.0343,\n",
       "                      -0.0339,  0.0316,  0.0504,  0.0528,  0.0184, -0.0457, -0.0274, -0.0285,\n",
       "                      -0.0381, -0.0533, -0.0490, -0.0270, -0.0282,  0.0005,  0.0453,  0.0400,\n",
       "                      -0.0054, -0.0369, -0.0445, -0.0501, -0.0482, -0.0425,  0.0434,  0.0475,\n",
       "                      -0.0538, -0.0489, -0.0337,  0.0542,  0.0532,  0.0347,  0.0213, -0.0170,\n",
       "                       0.0464,  0.0196, -0.0353,  0.0370, -0.0372, -0.0307, -0.0540, -0.0013,\n",
       "                      -0.0146, -0.0446,  0.0299, -0.0132,  0.0399, -0.0209,  0.0198,  0.0223,\n",
       "                      -0.0437, -0.0132,  0.0154,  0.0345, -0.0574,  0.0273,  0.0200,  0.0427,\n",
       "                      -0.0331, -0.0516, -0.0412,  0.0332, -0.0473, -0.0475,  0.0095,  0.0369,\n",
       "                      -0.0416, -0.0173, -0.0225,  0.0550, -0.0219, -0.0442, -0.0301,  0.0152,\n",
       "                       0.0440, -0.0435,  0.0365, -0.0456])),\n",
       "             ('linear_relu_stack.4.weight',\n",
       "              tensor([[-3.2656e-02, -2.3027e-02,  9.7845e-02, -3.3705e-02, -8.3037e-02,\n",
       "                        4.1501e-02,  7.0523e-02, -1.8020e-02, -7.5718e-02,  7.8214e-03,\n",
       "                       -4.8656e-02,  3.1250e-02,  1.0119e-04,  4.6237e-02, -1.5387e-02,\n",
       "                       -4.0151e-03,  2.4481e-02, -6.7322e-02, -2.7036e-02, -4.0206e-02,\n",
       "                       -8.5791e-02, -8.0171e-02, -4.5143e-02, -6.8300e-02,  6.1728e-02,\n",
       "                        3.3234e-03,  7.6626e-02, -9.8780e-02,  9.5471e-02,  4.6445e-02,\n",
       "                        2.9432e-02, -4.5560e-02,  8.6696e-02, -1.0130e-02,  8.6359e-02,\n",
       "                       -9.9089e-02, -7.9102e-02,  4.8494e-02, -5.4272e-03, -2.4752e-02,\n",
       "                       -8.0346e-02, -3.4565e-02,  3.5136e-02, -5.5928e-02, -1.0234e-02,\n",
       "                       -8.0860e-02, -5.9768e-02, -2.3786e-02,  7.4153e-02,  4.0824e-02,\n",
       "                       -7.7590e-02,  4.0248e-03, -9.8167e-02,  4.4023e-03,  7.7438e-02,\n",
       "                        2.8854e-02, -9.3237e-03, -6.4030e-02, -4.7264e-02, -8.5080e-03,\n",
       "                        4.5684e-02, -9.7537e-02,  9.6022e-02, -5.0887e-02, -1.1159e-02,\n",
       "                        7.2433e-02,  4.6909e-02,  2.1383e-02,  3.6523e-02,  8.1133e-02,\n",
       "                        2.8086e-03,  5.0807e-02, -7.9865e-02, -7.2268e-02, -5.1883e-02,\n",
       "                       -5.8048e-02, -8.8430e-02,  4.9499e-02,  4.0392e-02,  1.5074e-02,\n",
       "                       -7.6832e-02, -4.7895e-02,  4.2616e-02, -7.4051e-02, -5.4278e-02,\n",
       "                       -1.3950e-02,  4.1632e-02, -1.7630e-02, -5.6246e-02, -4.8653e-02,\n",
       "                       -4.2897e-02, -8.5112e-02, -6.0450e-02,  7.2053e-02,  5.8330e-03,\n",
       "                       -1.1728e-02,  8.1103e-02, -5.8919e-03, -5.6165e-02, -4.4384e-02],\n",
       "                      [-2.1541e-03, -1.9541e-02,  9.6307e-02,  8.2067e-02, -3.5232e-02,\n",
       "                       -5.9567e-02,  1.5647e-02,  2.3414e-02,  8.2087e-02,  7.0756e-02,\n",
       "                       -8.0114e-03, -6.2385e-03,  3.2933e-02, -5.7800e-02,  9.9456e-02,\n",
       "                        6.4245e-02, -4.5252e-02, -7.5268e-02, -2.0186e-03,  9.9057e-02,\n",
       "                        1.3732e-02,  1.7293e-02,  2.7296e-02,  7.0603e-02,  7.1237e-02,\n",
       "                        4.3278e-03,  5.6517e-02, -5.3277e-02, -3.3454e-02, -2.2739e-02,\n",
       "                       -8.4717e-02, -7.8201e-02, -6.2430e-02, -5.5036e-02,  5.9557e-02,\n",
       "                       -8.6065e-02,  5.4447e-02,  3.2475e-02,  6.4167e-02,  6.7856e-02,\n",
       "                        6.4327e-03, -4.6707e-02,  5.9547e-02,  5.6972e-02,  4.0843e-03,\n",
       "                       -4.6482e-03,  7.6167e-02,  8.4473e-04,  4.1023e-02, -1.4285e-02,\n",
       "                        8.8895e-02, -5.8566e-02, -1.3761e-02, -6.9944e-02,  9.0190e-02,\n",
       "                        1.0397e-02,  3.7923e-02, -8.1333e-02,  7.9343e-02, -9.8623e-02,\n",
       "                        8.6067e-02,  1.5881e-02, -6.7525e-02, -3.3736e-02, -3.9631e-02,\n",
       "                       -3.2033e-02, -2.8830e-02, -1.3475e-02,  7.6791e-03,  5.0233e-03,\n",
       "                       -9.3145e-03,  6.0888e-02,  7.7839e-02,  7.2993e-03, -4.7319e-02,\n",
       "                        1.2907e-02, -1.9665e-02, -4.4993e-02, -3.1764e-02, -8.7609e-02,\n",
       "                        5.5571e-03, -1.6170e-02, -9.7700e-02,  7.4948e-02,  4.0298e-02,\n",
       "                       -3.8870e-02, -5.9305e-02, -4.1466e-02,  1.7130e-02,  6.0809e-02,\n",
       "                       -7.0460e-03, -6.1535e-02, -1.1453e-02, -2.8674e-02,  7.1902e-02,\n",
       "                        7.4733e-03,  2.3055e-02,  1.7214e-02,  8.9494e-02, -5.3550e-02],\n",
       "                      [-8.6414e-02, -5.4093e-03, -9.3445e-03,  2.6989e-02, -8.0276e-02,\n",
       "                        3.4004e-02, -9.6287e-02, -9.6682e-02,  4.0438e-02, -9.8940e-02,\n",
       "                        4.0976e-02,  5.6940e-02, -9.4739e-02,  8.1856e-02, -2.6820e-02,\n",
       "                       -6.5002e-02,  7.6441e-02,  5.7483e-02,  5.1101e-02, -1.6180e-02,\n",
       "                       -9.2792e-03, -1.9642e-02, -4.4990e-02, -9.6737e-03,  2.2443e-03,\n",
       "                        9.2600e-02,  8.2055e-02,  6.1880e-02, -2.8363e-02,  5.1403e-02,\n",
       "                        9.6168e-02,  2.0246e-02, -9.2076e-02, -7.8683e-02, -7.1242e-02,\n",
       "                       -5.1707e-02, -3.7995e-02, -6.3075e-02, -3.6274e-02, -3.0804e-02,\n",
       "                       -1.6270e-02, -1.4702e-02,  6.7102e-02, -8.8096e-02, -8.1487e-02,\n",
       "                       -1.3226e-02, -3.1368e-02,  9.0361e-02,  1.8558e-02, -9.0781e-02,\n",
       "                       -8.0373e-02, -1.9765e-02,  6.8355e-02, -5.2362e-02, -1.6087e-02,\n",
       "                        9.3789e-02, -9.4174e-02,  6.1936e-02,  3.2415e-02, -7.1494e-02,\n",
       "                       -7.5547e-04,  7.4077e-02,  9.9623e-02, -5.0107e-02, -9.0666e-02,\n",
       "                       -7.6582e-02,  6.2732e-02,  7.0953e-04, -7.2415e-02,  6.6634e-02,\n",
       "                        8.9979e-02, -8.9030e-02, -9.5922e-02, -2.3151e-02, -8.1966e-03,\n",
       "                       -8.1719e-03,  1.8019e-02,  7.3053e-02, -9.8434e-02,  8.5418e-03,\n",
       "                       -1.3531e-02, -4.9236e-02, -2.8356e-02, -3.7940e-02,  7.0981e-02,\n",
       "                        8.8058e-02, -6.8430e-03,  9.3637e-02,  7.7879e-02,  6.3694e-02,\n",
       "                       -3.1669e-02, -1.2597e-02, -2.1041e-02,  9.6727e-02, -6.8632e-02,\n",
       "                       -5.1387e-02, -6.1053e-02,  9.0552e-02,  2.7825e-02,  1.0682e-02],\n",
       "                      [ 3.3079e-02,  9.5242e-02, -6.7698e-02, -3.6647e-02, -8.3290e-02,\n",
       "                        9.4948e-03, -3.7601e-02,  8.7999e-02, -7.6349e-02, -1.8321e-03,\n",
       "                       -1.3729e-02,  4.8876e-02,  5.5566e-02, -7.5576e-02, -8.5060e-03,\n",
       "                        4.2545e-02, -9.9675e-02,  8.0829e-02, -8.3665e-02,  2.6202e-02,\n",
       "                       -1.3877e-02, -7.4075e-02, -1.6427e-02,  9.4243e-02, -3.2019e-03,\n",
       "                       -5.9001e-02,  6.5736e-02, -4.7418e-02, -4.7577e-02, -1.7931e-02,\n",
       "                       -4.7336e-03,  5.2493e-02, -1.0942e-02,  9.2458e-02,  6.2168e-02,\n",
       "                        1.5896e-02,  8.2101e-02, -2.9227e-02,  2.2499e-02, -4.8322e-02,\n",
       "                       -2.3593e-02,  2.8063e-02, -4.8568e-02, -9.6377e-02,  3.3849e-02,\n",
       "                       -1.4825e-02,  9.9392e-02, -6.9908e-02,  2.2789e-03, -6.4437e-02,\n",
       "                        7.2669e-02,  2.5080e-02,  7.8024e-02, -7.9714e-02,  7.1715e-02,\n",
       "                       -4.7740e-03,  8.5524e-02,  7.5533e-03, -5.8077e-02,  7.2056e-02,\n",
       "                       -9.1158e-02, -7.7998e-02, -5.9115e-02, -8.9052e-02, -5.3822e-02,\n",
       "                        2.4105e-02, -5.4406e-02, -9.2978e-02, -7.8707e-02,  6.1790e-02,\n",
       "                       -9.4348e-02,  9.2107e-02,  6.5774e-02,  8.2861e-02, -7.5167e-02,\n",
       "                       -1.5330e-02, -1.0743e-02,  4.0009e-02, -7.9661e-02, -1.9085e-02,\n",
       "                       -5.5268e-02,  2.7122e-02,  3.1611e-02, -1.3552e-02, -2.1637e-02,\n",
       "                        3.3337e-02,  7.5790e-03, -2.9148e-03, -8.8309e-02, -7.9592e-02,\n",
       "                        3.2368e-02, -2.7883e-03, -2.4162e-02,  7.5113e-02,  4.4984e-02,\n",
       "                       -1.9741e-02,  1.4333e-02, -2.3843e-02, -4.8402e-02,  5.2970e-02],\n",
       "                      [ 5.1274e-02, -9.2362e-02, -3.6327e-02,  4.4114e-02,  1.0009e-02,\n",
       "                        3.0615e-02, -3.9717e-02,  3.4604e-03,  8.5709e-02,  9.0295e-02,\n",
       "                       -1.0283e-02, -2.5385e-02,  2.2619e-02, -7.1066e-02,  4.7387e-02,\n",
       "                       -9.7835e-02, -7.0849e-02, -7.4583e-03, -2.9262e-02,  1.9779e-02,\n",
       "                        2.1194e-02, -1.0333e-02, -9.0898e-02,  5.3499e-02,  4.3718e-02,\n",
       "                       -5.6287e-02, -9.6197e-02,  5.2303e-02,  9.5095e-02, -7.8023e-02,\n",
       "                       -5.3503e-02,  6.8780e-03,  4.6738e-02,  9.5852e-03, -9.0928e-02,\n",
       "                        9.3285e-02,  1.9800e-02,  6.4020e-02,  9.4207e-02,  5.4961e-03,\n",
       "                        1.7940e-02, -7.9866e-02, -9.5370e-02, -9.5821e-02,  3.7719e-02,\n",
       "                       -6.0272e-02,  2.5333e-02,  3.0786e-02, -2.2596e-02,  8.6440e-03,\n",
       "                       -5.7263e-02, -9.3712e-02,  1.1934e-02,  2.2882e-02,  8.4411e-02,\n",
       "                        7.4244e-02, -9.8902e-03,  5.9222e-02, -2.4132e-02,  5.8715e-02,\n",
       "                       -5.2768e-02,  4.3958e-04,  9.6303e-02, -7.9584e-02, -4.9885e-02,\n",
       "                        5.9561e-02, -6.7296e-02, -3.6257e-02, -7.9216e-02, -8.7347e-02,\n",
       "                       -5.7901e-03, -9.1091e-02, -6.0871e-02,  1.4742e-02,  1.7247e-02,\n",
       "                        9.6099e-02,  7.2638e-02, -5.8605e-02, -7.6922e-02,  9.3301e-03,\n",
       "                        7.8413e-02,  4.1284e-02,  2.6807e-02, -3.6181e-02,  4.2296e-02,\n",
       "                       -9.8910e-02,  6.7188e-03,  5.9310e-03,  4.8646e-02, -5.6574e-02,\n",
       "                        3.8975e-02,  3.8002e-02,  3.2083e-02,  5.5929e-02,  1.9884e-04,\n",
       "                       -5.0458e-02, -6.3886e-02, -8.7420e-02,  2.3048e-02,  6.6348e-02],\n",
       "                      [ 3.6348e-02, -4.8986e-02,  7.6167e-02,  1.8912e-02,  5.2629e-02,\n",
       "                        6.7138e-02, -7.1167e-02,  2.8367e-02, -3.4713e-02,  2.5016e-02,\n",
       "                       -9.5394e-02,  8.1850e-02, -6.2735e-02,  4.3841e-02,  1.8111e-02,\n",
       "                        8.2307e-02, -8.0993e-02, -7.2610e-02,  8.6415e-02, -8.0037e-03,\n",
       "                        6.1905e-02, -1.3648e-02,  9.0294e-02, -7.9285e-02,  2.6865e-02,\n",
       "                        2.7627e-02, -4.9183e-02, -4.7249e-02,  8.7349e-02, -1.2268e-03,\n",
       "                       -3.0916e-03, -9.9719e-02, -3.5404e-02, -9.5046e-02, -5.7451e-02,\n",
       "                       -7.4264e-02,  7.5851e-02,  3.5874e-02, -4.5621e-02,  6.5853e-02,\n",
       "                        8.3695e-02, -4.8675e-02,  4.6030e-02,  5.2928e-02,  8.9026e-02,\n",
       "                       -4.1442e-03, -6.5298e-02,  1.5055e-02, -8.1830e-02,  7.3742e-02,\n",
       "                        9.7519e-02, -6.6184e-02, -6.2693e-02, -5.5678e-03, -3.1211e-02,\n",
       "                        8.6881e-02,  8.3397e-02,  8.9255e-02, -4.5169e-02, -3.0415e-02,\n",
       "                       -5.9508e-02, -2.4589e-02,  2.7377e-02,  8.6263e-02, -3.4304e-02,\n",
       "                        4.3909e-02, -2.2891e-02, -7.2215e-03,  9.5463e-02, -8.1375e-02,\n",
       "                       -8.5233e-02, -8.5205e-02,  8.0373e-03,  8.8247e-02,  2.0546e-02,\n",
       "                        3.6276e-02,  8.8840e-02, -2.5835e-02, -7.7189e-02,  3.4563e-02,\n",
       "                        1.9307e-04, -7.1658e-02, -4.8219e-02,  2.5840e-03, -5.7466e-02,\n",
       "                       -3.4537e-02, -6.0265e-02,  9.4479e-02,  6.1931e-02, -4.7851e-02,\n",
       "                        6.4204e-02, -8.5775e-02,  4.1677e-02,  6.0113e-02,  5.7111e-02,\n",
       "                        6.7502e-02, -4.1188e-03, -4.2635e-02, -4.6011e-02, -8.2202e-02],\n",
       "                      [ 3.3155e-02,  5.9980e-03, -2.4748e-02, -7.4830e-02,  4.1187e-02,\n",
       "                       -6.2548e-02, -3.9803e-02,  4.5820e-02, -6.4481e-02, -9.6014e-02,\n",
       "                        3.8507e-02, -5.5778e-02, -9.6971e-02,  9.3815e-02, -6.4903e-02,\n",
       "                        2.4881e-03, -8.0182e-02, -5.8992e-02,  6.0666e-02, -2.3118e-02,\n",
       "                        8.9104e-02, -7.8672e-02,  8.0058e-02, -3.9734e-02,  8.1116e-02,\n",
       "                       -5.9435e-02, -3.7195e-02,  1.4997e-03, -9.1509e-02,  1.9434e-02,\n",
       "                       -7.0941e-02, -3.7187e-02,  2.4652e-03, -6.1985e-02,  1.8467e-03,\n",
       "                       -8.1199e-02,  8.8633e-02, -6.7097e-02, -4.0627e-02, -2.3490e-02,\n",
       "                       -8.5506e-02, -7.8559e-03, -1.0633e-02,  3.8699e-02, -2.9339e-02,\n",
       "                       -9.4284e-02,  5.0318e-02, -8.8215e-02, -6.8205e-02, -5.6078e-03,\n",
       "                       -7.5949e-02,  3.6201e-02, -8.8642e-02,  5.3995e-02,  1.6723e-02,\n",
       "                       -9.1657e-02,  5.7123e-02,  1.7478e-02,  2.8228e-02,  7.0429e-02,\n",
       "                       -4.5296e-03, -3.1016e-02, -3.6658e-02,  3.8010e-02, -9.0083e-02,\n",
       "                       -9.8180e-02, -9.1503e-03, -5.7498e-02, -9.5607e-02,  7.3302e-02,\n",
       "                        1.8398e-03, -6.8438e-02, -9.4851e-02,  3.9599e-02, -9.5291e-02,\n",
       "                       -5.7972e-02, -7.8109e-02, -6.9826e-02,  7.6524e-02,  5.3071e-02,\n",
       "                       -8.1157e-02,  5.2000e-02,  3.0966e-02, -2.3823e-03, -1.3016e-02,\n",
       "                        2.8878e-02, -4.2776e-02,  4.0100e-02, -4.6298e-02, -3.2768e-02,\n",
       "                        3.0708e-03,  5.6041e-02, -3.4065e-02,  8.5334e-02, -1.3579e-02,\n",
       "                       -3.3297e-02,  1.5132e-02,  9.8976e-03, -3.6732e-02, -7.5399e-02],\n",
       "                      [ 7.9713e-02,  3.1114e-02, -8.5964e-02, -9.6838e-02,  9.1763e-02,\n",
       "                       -1.2769e-02,  9.2288e-02,  7.2959e-02, -3.3218e-02,  4.2645e-02,\n",
       "                       -5.5576e-02,  9.0428e-02, -9.0922e-02,  8.0750e-02,  3.2613e-02,\n",
       "                        7.1259e-04, -8.8098e-02,  3.9707e-02, -3.9233e-03,  3.6155e-02,\n",
       "                        7.9954e-02, -4.2248e-02, -8.1034e-02, -3.1279e-02,  1.4507e-02,\n",
       "                       -9.8902e-02, -8.0165e-02, -2.4721e-03, -8.7895e-02, -2.1441e-02,\n",
       "                       -9.5958e-02, -7.2786e-02, -8.5171e-02,  8.7090e-02, -7.1646e-02,\n",
       "                       -1.7955e-02, -6.0844e-02, -9.7093e-02, -6.5405e-02, -6.2570e-02,\n",
       "                       -2.6166e-02,  5.9969e-02,  4.8776e-02, -3.9841e-02,  2.0106e-02,\n",
       "                        1.8285e-02, -2.6444e-02,  3.4802e-02,  3.5248e-02,  4.7354e-03,\n",
       "                       -2.1914e-02,  9.3135e-02, -8.1990e-02, -6.4376e-03,  5.1976e-02,\n",
       "                       -9.0224e-02,  8.4364e-02,  4.5885e-02,  3.4380e-02,  6.8058e-02,\n",
       "                       -4.2478e-02, -1.2347e-02,  1.4085e-02,  5.3704e-05,  1.1062e-02,\n",
       "                        2.6700e-02,  5.5468e-03, -3.1625e-02,  7.2053e-02, -1.3024e-02,\n",
       "                        4.3604e-02,  6.6039e-02, -4.6122e-02,  6.4137e-02,  5.3581e-02,\n",
       "                       -5.8612e-02,  5.1674e-02, -6.3564e-02, -4.5743e-02, -6.0386e-02,\n",
       "                       -7.5854e-02,  2.5594e-02,  5.6704e-02, -4.7520e-02, -7.8820e-02,\n",
       "                       -5.6027e-02, -4.0805e-02,  3.8640e-02,  1.4162e-02, -7.0440e-02,\n",
       "                       -1.4017e-04,  9.7073e-02, -7.6041e-02,  8.1894e-02, -8.3581e-02,\n",
       "                       -2.0146e-02,  3.9527e-02,  2.8504e-02,  9.6972e-02,  6.3608e-02],\n",
       "                      [ 8.5624e-02,  5.9192e-02,  6.2290e-02, -9.6016e-02, -6.5814e-03,\n",
       "                       -3.6176e-02, -3.7713e-02,  7.7068e-02,  3.5490e-02,  5.7673e-02,\n",
       "                        9.6746e-02, -7.2492e-02, -6.7533e-02, -3.0288e-02,  4.9335e-02,\n",
       "                       -2.3702e-02,  2.1545e-02,  9.8458e-02,  4.0876e-02, -1.7462e-02,\n",
       "                        5.5971e-02, -5.0677e-02, -3.7257e-02, -7.5995e-02, -6.2344e-02,\n",
       "                        4.1727e-02, -4.6662e-03, -8.9773e-02, -1.8653e-02, -5.3903e-02,\n",
       "                        4.3880e-02,  7.1728e-02,  5.0830e-02, -3.1039e-02,  2.4705e-03,\n",
       "                       -8.0249e-02, -7.6168e-02,  1.0290e-02,  2.3854e-02,  8.0456e-02,\n",
       "                        5.7578e-02, -3.7819e-02,  2.4895e-02,  3.3357e-02, -6.3889e-02,\n",
       "                       -1.5260e-02,  7.6042e-02, -7.2622e-02, -5.2751e-02,  1.4406e-02,\n",
       "                       -6.2932e-02, -9.2949e-02,  6.3704e-02, -8.5941e-02,  4.4595e-02,\n",
       "                        1.0310e-02, -8.2823e-02,  7.9650e-02, -9.3032e-02, -1.2228e-02,\n",
       "                       -5.5815e-02, -4.5039e-02, -2.4106e-02, -9.9169e-02, -7.7164e-02,\n",
       "                        5.0382e-02, -1.8347e-02,  9.0510e-02, -8.0726e-02, -8.1706e-03,\n",
       "                       -6.6176e-02, -2.5812e-02, -7.8963e-02, -7.3356e-02,  2.5936e-02,\n",
       "                        5.6716e-02,  5.4954e-02, -5.3979e-02, -7.7928e-02, -6.5142e-02,\n",
       "                        9.7616e-02,  3.3986e-02,  5.5542e-02,  8.1485e-02,  1.7919e-02,\n",
       "                        5.1137e-02,  1.0770e-03, -9.9146e-02,  9.9517e-02,  3.0522e-02,\n",
       "                       -2.7176e-02,  5.3156e-02, -9.0459e-03, -1.4539e-02,  3.3801e-02,\n",
       "                        4.5896e-02,  7.6879e-02, -9.1357e-02,  6.3098e-02, -2.6276e-02],\n",
       "                      [ 5.5909e-02, -9.2195e-02,  7.8766e-02, -1.9840e-02,  5.6313e-02,\n",
       "                        2.4182e-02, -8.0724e-02,  6.0029e-02, -1.2616e-02,  8.3538e-02,\n",
       "                        2.4794e-02, -6.5517e-02,  7.6724e-02, -8.6325e-02,  2.3850e-02,\n",
       "                       -8.7894e-02, -1.8886e-02, -7.3137e-02,  1.0221e-02,  7.3504e-03,\n",
       "                       -3.7551e-02, -4.6625e-02,  4.1520e-02,  6.4421e-02,  8.6033e-02,\n",
       "                       -7.1312e-02, -2.9664e-02,  6.8211e-02, -9.3293e-02,  6.9489e-02,\n",
       "                        2.7725e-03,  3.7506e-02, -8.9614e-02,  3.9171e-02, -9.8184e-02,\n",
       "                       -9.3973e-02, -7.9454e-02, -6.1967e-02,  4.2693e-03,  2.5547e-02,\n",
       "                       -8.2891e-02,  6.7776e-02, -5.8398e-02,  9.1912e-02,  4.4547e-02,\n",
       "                       -4.4693e-02,  4.7889e-02,  6.8919e-02,  5.3950e-02, -7.5302e-02,\n",
       "                       -4.6492e-02,  8.1877e-02,  6.8567e-03,  1.5251e-02,  6.8175e-02,\n",
       "                        2.6395e-02,  8.5969e-02,  5.7672e-02, -4.2878e-02, -4.0744e-02,\n",
       "                       -7.2774e-02, -7.1897e-02,  2.4789e-02,  6.1379e-02,  2.8834e-02,\n",
       "                        9.6913e-02, -7.1399e-02, -5.5505e-02, -1.3102e-02,  4.8138e-02,\n",
       "                        3.5426e-02, -6.6330e-03, -1.2178e-02,  9.7129e-02,  9.1767e-03,\n",
       "                        3.3321e-02, -6.8161e-02,  4.1699e-02,  6.6907e-02, -5.5965e-02,\n",
       "                        7.7164e-02,  1.0992e-02, -5.9374e-02, -5.1670e-02, -8.5911e-02,\n",
       "                       -2.0299e-02, -3.8742e-02, -7.0377e-03,  7.2144e-02, -6.9520e-03,\n",
       "                       -7.1372e-02,  3.1864e-02,  8.1534e-02, -3.0376e-02,  5.0059e-02,\n",
       "                       -1.3122e-02,  1.0905e-02,  5.6505e-02,  6.3118e-02, -8.7226e-02]])),\n",
       "             ('linear_relu_stack.4.bias',\n",
       "              tensor([ 0.0029, -0.0290, -0.0551, -0.0437, -0.0604, -0.0609,  0.0744,  0.0160,\n",
       "                      -0.0769,  0.0303]))])"
      ]
     },
     "execution_count": 15,
     "metadata": {},
     "output_type": "execute_result"
    }
   ],
   "execution_count": 15
  },
  {
   "metadata": {},
   "cell_type": "markdown",
   "source": [
    "## 训练\n",
    "\n",
    "pytorch的训练需要自行实现，包括\n",
    "1. 定义损失函数\n",
    "2. 定义优化器\n",
    "3. 定义训练步\n",
    "4. 训练"
   ],
   "id": "546500ea85fb8866"
  },
  {
   "metadata": {
    "ExecuteTime": {
     "end_time": "2025-03-15T08:33:01.723934Z",
     "start_time": "2025-03-15T08:33:01.719814Z"
    }
   },
   "cell_type": "code",
   "source": [
    "# 1. 定义损失函数 采用交叉熵损失\n",
    "loss_fct = nn.CrossEntropyLoss() #内部先做softmax，然后计算交叉熵\n",
    "# 2. 定义优化器 采用SGD\n",
    "# Optimizers specified in the torch.optim package,随机梯度下降\n",
    "# 学习率lr=0.01\n",
    "# 动量momentum=0.9\n",
    "# model.parameters()返回模型的所有可学习参数\n",
    "optimizer = torch.optim.SGD(model.parameters(), lr=0.001, momentum=0.9)"
   ],
   "id": "bfafa04de687d1ba",
   "outputs": [],
   "execution_count": 16
  },
  {
   "metadata": {
    "ExecuteTime": {
     "end_time": "2025-03-15T08:33:48.584779Z",
     "start_time": "2025-03-15T08:33:48.527138Z"
    }
   },
   "cell_type": "code",
   "source": [
    "from sklearn.metrics import accuracy_score\n",
    "\n",
    "@torch.no_grad() # 装饰器，禁止反向传播，节省内存\n",
    "# evaluating的作用是计算验证集的损失和准确率\n",
    "def evaluating(model, dataloader, loss_fct):\n",
    "    loss_list = [] # 记录损失\n",
    "    pred_list = [] # 记录预测\n",
    "    label_list = [] # 记录标签\n",
    "    for datas, labels in dataloader:#10000/32=312\n",
    "        datas = datas.to(device) # 转到GPU\n",
    "        labels = labels.to(device) # 转到GPU\n",
    "        # 前向计算\n",
    "        logits = model(datas)\n",
    "        loss = loss_fct(logits, labels)         # 验证集损失,loss尺寸是一个数值\n",
    "        loss_list.append(loss.item()) # 记录损失,item是把tensor转换为数值\n",
    "        \n",
    "        preds = logits.argmax(axis=-1)    # 验证集预测,argmax返回最大值索引\n",
    "        # print(preds)\n",
    "        pred_list.extend(preds.cpu().numpy().tolist())#将PyTorch张量转换为NumPy数组。只有当张量在CPU上时，这个转换才是合法的\n",
    "        # print(preds.cpu().numpy().tolist())\n",
    "        label_list.extend(labels.cpu().numpy().tolist())\n",
    "        \n",
    "    acc = accuracy_score(label_list, pred_list) # 计算准确率\n",
    "    return np.mean(loss_list), acc\n"
   ],
   "id": "6c049fac1124648e",
   "outputs": [],
   "execution_count": 17
  },
  {
   "metadata": {
    "ExecuteTime": {
     "end_time": "2025-03-15T08:41:47.421556Z",
     "start_time": "2025-03-15T08:34:52.092311Z"
    }
   },
   "cell_type": "code",
   "source": [
    "# 训练\n",
    "def training(model, train_loader, val_loader, epoch, loss_fct, optimizer, eval_step=500):\n",
    "    record_dict = {\n",
    "        \"train\": [],\n",
    "        \"val\": []\n",
    "    }\n",
    "    \n",
    "    global_step = 0\n",
    "    model.train()\n",
    "    #tqdm是一个进度条库\n",
    "    with tqdm(total=epoch * len(train_loader)) as pbar: # 进度条 1875*20,60000/32=1875\n",
    "        for epoch_id in range(epoch): # 训练epoch次\n",
    "            # training\n",
    "            for datas, labels in train_loader: #执行次数是60000/32=1875\n",
    "                datas = datas.to(device) #datas尺寸是[batch_size,1,28,28]\n",
    "                labels = labels.to(device) #labels尺寸是[batch_size]\n",
    "                # 梯度清空的作用是防止梯度累加，导致训练不收敛\n",
    "                optimizer.zero_grad()\n",
    "                # 模型前向计算\n",
    "                logits = model(datas)\n",
    "                # 计算损失\n",
    "                loss = loss_fct(logits, labels)\n",
    "                # 梯度回传，loss.backward()会计算梯度，loss对模型参数求导\n",
    "                loss.backward()\n",
    "                # 调整优化器，包括学习率的变动等,优化器的学习率会随着训练的进行而减小，更新w,b\n",
    "                optimizer.step() #梯度是计算并存储在模型参数的 .grad 属性中，优化器使用这些存储的梯度来更新模型参数\n",
    "\n",
    "                preds = logits.argmax(axis=-1) # 训练集预测\n",
    "                acc = accuracy_score(labels.cpu().numpy(), preds.cpu().numpy())   # 计算准确率，numpy可以\n",
    "                loss = loss.cpu().item() # 损失转到CPU，item()取值,一个数值\n",
    "                # record\n",
    "                # record\n",
    "                \n",
    "                record_dict[\"train\"].append({\n",
    "                    \"loss\": loss, \"acc\": acc, \"step\": global_step\n",
    "                }) # 记录训练集信息，每一步的损失，准确率，步数\n",
    "                \n",
    "                # evaluating\n",
    "                if global_step % eval_step == 0:\n",
    "                    model.eval() # 进入评估模式\n",
    "                    val_loss, val_acc = evaluating(model, val_loader, loss_fct)\n",
    "                    record_dict[\"val\"].append({\n",
    "                        \"loss\": val_loss, \"acc\": val_acc, \"step\": global_step\n",
    "                    })\n",
    "                    model.train() # 进入训练模式\n",
    "\n",
    "                # udate step\n",
    "                global_step += 1 # 全局步数加1\n",
    "                pbar.update(1) # 更新进度条\n",
    "                pbar.set_postfix({\"epoch\": epoch_id}) # 设置进度条显示信息\n",
    "        \n",
    "    return record_dict\n",
    "        \n",
    "\n",
    "epoch = 20 #改为40\n",
    "model = model.to(device)\n",
    "record = training(model, train_loader, val_loader, epoch, loss_fct, optimizer, eval_step=1000)"
   ],
   "id": "554a837d84e3aa1",
   "outputs": [
    {
     "data": {
      "text/plain": [
       "  0%|          | 0/37500 [00:00<?, ?it/s]"
      ],
      "application/vnd.jupyter.widget-view+json": {
       "version_major": 2,
       "version_minor": 0,
       "model_id": "3e4c94e61c7b4e018f731697075c7d20"
      }
     },
     "metadata": {},
     "output_type": "display_data"
    }
   ],
   "execution_count": 18
  },
  {
   "metadata": {
    "ExecuteTime": {
     "end_time": "2025-03-15T08:45:17.361900Z",
     "start_time": "2025-03-15T08:45:17.168903Z"
    }
   },
   "cell_type": "code",
   "source": [
    "#画线要注意的是损失是不一定在零到1之间的\n",
    "def plot_learning_curves(record_dict, sample_step=1000):\n",
    "    # build DataFrame\n",
    "    train_df = pd.DataFrame(record_dict[\"train\"]).set_index(\"step\").iloc[::sample_step]\n",
    "    val_df = pd.DataFrame(record_dict[\"val\"]).set_index(\"step\")\n",
    "    last_step = train_df.index[-1] # 最后一步的步数\n",
    "    # print(train_df.columns)\n",
    "    print(train_df['acc'])\n",
    "    print(val_df['acc'])\n",
    "    # plot\n",
    "    fig_num = len(train_df.columns) # 画几张图,分别是损失和准确率\n",
    "    fig, axs = plt.subplots(1, fig_num, figsize=(5 * fig_num, 5))\n",
    "    for idx, item in enumerate(train_df.columns):\n",
    "        # print(train_df[item].values)\n",
    "        axs[idx].plot(train_df.index, train_df[item], label=f\"train_{item}\")\n",
    "        axs[idx].plot(val_df.index, val_df[item], label=f\"val_{item}\")\n",
    "        axs[idx].grid() # 显示网格\n",
    "        axs[idx].legend() # 显示图例\n",
    "        axs[idx].set_xticks(range(0, train_df.index[-1], 5000)) # 设置x轴刻度\n",
    "        axs[idx].set_xticklabels(map(lambda x: f\"{int(x/1000)}k\", range(0, last_step, 5000))) # 设置x轴标签\n",
    "        axs[idx].set_xlabel(\"step\")\n",
    "    \n",
    "    plt.show()\n",
    "\n",
    "plot_learning_curves(record)  #横坐标是 steps"
   ],
   "id": "1a2ed3c3416f14d",
   "outputs": [
    {
     "name": "stdout",
     "output_type": "stream",
     "text": [
      "step\n",
      "0        0.12500\n",
      "1000     0.87500\n",
      "2000     0.87500\n",
      "3000     0.78125\n",
      "4000     0.78125\n",
      "5000     0.78125\n",
      "6000     0.87500\n",
      "7000     0.90625\n",
      "8000     0.93750\n",
      "9000     0.90625\n",
      "10000    0.90625\n",
      "11000    0.84375\n",
      "12000    0.93750\n",
      "13000    0.96875\n",
      "14000    0.87500\n",
      "15000    0.81250\n",
      "16000    0.90625\n",
      "17000    1.00000\n",
      "18000    0.90625\n",
      "19000    0.90625\n",
      "20000    0.93750\n",
      "21000    0.87500\n",
      "22000    0.96875\n",
      "23000    0.84375\n",
      "24000    0.90625\n",
      "25000    0.93750\n",
      "26000    0.96875\n",
      "27000    0.90625\n",
      "28000    0.90625\n",
      "29000    0.87500\n",
      "30000    0.96875\n",
      "31000    0.96875\n",
      "32000    1.00000\n",
      "33000    0.93750\n",
      "34000    0.93750\n",
      "35000    0.96875\n",
      "36000    0.96875\n",
      "37000    0.93750\n",
      "Name: acc, dtype: float64\n",
      "step\n",
      "0        0.1627\n",
      "1000     0.7973\n",
      "2000     0.8244\n",
      "3000     0.8368\n",
      "4000     0.8449\n",
      "5000     0.8502\n",
      "6000     0.8555\n",
      "7000     0.8582\n",
      "8000     0.8613\n",
      "9000     0.8476\n",
      "10000    0.8591\n",
      "11000    0.8691\n",
      "12000    0.8664\n",
      "13000    0.8712\n",
      "14000    0.8678\n",
      "15000    0.8696\n",
      "16000    0.8751\n",
      "17000    0.8751\n",
      "18000    0.8777\n",
      "19000    0.8809\n",
      "20000    0.8789\n",
      "21000    0.8669\n",
      "22000    0.8825\n",
      "23000    0.8778\n",
      "24000    0.8809\n",
      "25000    0.8806\n",
      "26000    0.8736\n",
      "27000    0.8826\n",
      "28000    0.8795\n",
      "29000    0.8838\n",
      "30000    0.8845\n",
      "31000    0.8806\n",
      "32000    0.8690\n",
      "33000    0.8859\n",
      "34000    0.8875\n",
      "35000    0.8864\n",
      "36000    0.8837\n",
      "37000    0.8850\n",
      "Name: acc, dtype: float64\n"
     ]
    },
    {
     "data": {
      "text/plain": [
       "<Figure size 1000x500 with 2 Axes>"
      ],
      "image/png": "[encoded data removed]"
     },
     "metadata": {},
     "output_type": "display_data"
    }
   ],
   "execution_count": 19
  },
  {
   "metadata": {},
   "cell_type": "markdown",
   "source": "## 评估",
   "id": "187d8c1a97c1dc5b"
  },
  {
   "metadata": {
    "ExecuteTime": {
     "end_time": "2025-03-15T08:45:23.887690Z",
     "start_time": "2025-03-15T08:45:21.735853Z"
    }
   },
   "cell_type": "code",
   "source": [
    "# dataload for evaluating\n",
    "\n",
    "model.eval() # 进入评估模式\n",
    "loss, acc = evaluating(model, val_loader, loss_fct)\n",
    "print(f\"loss:     {loss:.4f}\\naccuracy: {acc:.4f}\")"
   ],
   "id": "37e9170c3af7733",
   "outputs": [
    {
     "name": "stdout",
     "output_type": "stream",
     "text": [
      "loss:     0.3288\n",
      "accuracy: 0.8849\n"
     ]
    }
   ],
   "execution_count": 20
  }
 ],
 "metadata": {
  "kernelspec": {
   "display_name": "Python 3",
   "language": "python",
   "name": "python3"
  },
  "language_info": {
   "codemirror_mode": {
    "name": "ipython",
    "version": 2
   },
   "file_extension": ".py",
   "mimetype": "text/x-python",
   "name": "python",
   "nbconvert_exporter": "python",
   "pygments_lexer": "ipython2",
   "version": "2.7.6"
  }
 },
 "nbformat": 4,
 "nbformat_minor": 5
}
